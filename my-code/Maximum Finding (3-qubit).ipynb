{
 "cells": [
  {
   "cell_type": "markdown",
   "metadata": {},
   "source": [
    "# Maximum Finding (3-bit version)\n",
    "\n",
    "The 3-bit version is created in order to limit the qubit usage so that it can be run on the IBM-Q machine.\n",
    "\n",
    "## The outline of algorithm\n",
    "\n",
    "We will use 3-qbit register to store our current maximum value called `qc`. In order to find the maximum value we need to repeatedly find one larger value (index) than `qc` and stop when we can't find any. For each iteration we will use `qs` to store our larger than `qc` value. \n",
    "\n",
    "0. randomly initialize `qc` and measure its value\n",
    "1. initialize `qs` into super position of all states \n",
    "2. apply Grover's algorithm using 3-bit comparator as the black-box function comparing `qs` and `qc` and set the input search space on `qs`\n",
    "3. if `qs` is larger than `qc` replace `qc` with `qs` value and repeat step (2)\n",
    "4. if `qs` is not larger than `qc` then we conclude that `qs` is the maximum value"
   ]
  },
  {
   "cell_type": "markdown",
   "metadata": {},
   "source": [
    "To start we need to import all the packages we need."
   ]
  },
  {
   "cell_type": "code",
   "execution_count": null,
   "metadata": {},
   "outputs": [],
   "source": [
    "# importing QISKit\n",
    "from qiskit import QuantumCircuit, ClassicalRegister, QuantumRegister, QISKitError\n",
    "from qiskit import available_backends, execute, register, get_backend, compile\n",
    "\n",
    "from qiskit.tools import visualization\n",
    "from qiskit.tools.visualization import circuit_drawer\n",
    "\n",
    "# import other necessary stuff\n",
    "import random\n",
    "\n",
    "import sys, time, getpass\n",
    "try:\n",
    "    sys.path.append(\"../\")\n",
    "    import Qconfig\n",
    "    qx_config = {\n",
    "        \"APItoken\": Qconfig.APItoken,\n",
    "        \"url\": Qconfig.config['url']}\n",
    "    print('Qconfig loaded from %s.' % Qconfig.__file__)\n",
    "except:\n",
    "    print('Qconfig.py not found in qiskit-tutorial directory')\n",
    "    \n",
    "register(qx_config['APItoken'], qx_config['url'])\n",
    "available_backends({'simulator': False})"
   ]
  },
  {
   "cell_type": "markdown",
   "metadata": {},
   "source": [
    "To find the maximum value we need comparator first. Since we will be using multiple qubit control-cot gate, we will make a function `n_control_not()` which we will use a lot later on."
   ]
  },
  {
   "cell_type": "code",
   "execution_count": null,
   "metadata": {},
   "outputs": [],
   "source": [
    "def n_control_not(circuit, q_array, target, ancillary_array, flip_array=None):\n",
    "    # error checking\n",
    "    if flip_array is not None and len(q_array) != len(flip_array):\n",
    "        raise ValueError(\"q_array(len:{}) and flip_array(len:{}) must have the same length\".format(len(q_array), len(flip_array)))\n",
    "    if len(ancillary_array) < len(q_array) - 2:\n",
    "        raise ValueError(\"ancillary array length is not enough ({}) for q_array ({})\".format(len(ancillary_array), len(q_array)))\n",
    "    if flip_array is None:\n",
    "        flip_array = [1 for _ in range(len(q_array))]\n",
    "    # todo handle wrong flip_array\n",
    "    \n",
    "    n = len(q_array)\n",
    "    \n",
    "    # put X-gate if flip\n",
    "    for i in range(n):\n",
    "        if flip_array[i] == -1:\n",
    "            circuit.x(q_array[i])\n",
    "        \n",
    "    # special case for only 2 bits\n",
    "    if n == 2:\n",
    "        circuit.ccx(q_array[0], q_array[1], target)\n",
    "    else:\n",
    "        circuit.ccx(q_array[0], q_array[1], ancillary_array[0])\n",
    "        for i in range(2, n-1):\n",
    "            circuit.ccx(q_array[i], ancillary_array[i-2], ancillary_array[i-1])\n",
    "        circuit.ccx(q_array[n-1], ancillary_array[n-3], target)\n",
    "        for i in reversed(range(2, n-1)):\n",
    "            circuit.ccx(q_array[i], ancillary_array[i-2], ancillary_array[i-1])\n",
    "        circuit.ccx(q_array[0], q_array[1], ancillary_array[0])\n",
    "    \n",
    "    # clean up X-gate\n",
    "    for i in range(n):\n",
    "        if flip_array[i] == -1:\n",
    "            circuit.x(q_array[i])"
   ]
  },
  {
   "cell_type": "markdown",
   "metadata": {},
   "source": [
    "We already have the n_control_not gate so now, onto the comparator."
   ]
  },
  {
   "cell_type": "markdown",
   "metadata": {},
   "source": [
    "Let's test out n_control_not function we just implemented\n",
    "with 2 qubits (the special case) and the 4 qubits version"
   ]
  },
  {
   "cell_type": "code",
   "execution_count": null,
   "metadata": {},
   "outputs": [],
   "source": [
    "qc = QuantumCircuit()\n",
    "qs = QuantumRegister(2)\n",
    "anc = QuantumRegister(1)\n",
    "target = QuantumRegister(1)\n",
    "qc.add(qs)\n",
    "qc.add(anc)\n",
    "qc.add(target)\n",
    "\n",
    "\n",
    "n_control_not(qc, qs, target[0], anc)\n",
    "\n",
    "circuit_drawer(qc)"
   ]
  },
  {
   "cell_type": "code",
   "execution_count": null,
   "metadata": {},
   "outputs": [],
   "source": [
    "def three_bit_comparator(qc, a, b, anc, target):\n",
    "    # we will store a > b for each bit in 0, 2, 4 bit (from msb to lsb) of ancillary register\n",
    "    # and for b > a for each bit in 1, 3, 5 bit\n",
    "    \n",
    "    # TODO: reduce the qubit needed\n",
    "    \n",
    "    # TODO: let's check whether anc is enough\n",
    "    anc_len = len(anc)\n",
    "    if anc_len < 9:\n",
    "        raise ValueError(\"ancillary bit is not enough: anc_len is {}\".format(anc_len))\n",
    "    \n",
    "    n = 3\n",
    "    \n",
    "    n_control_not(qc, [a[0], b[0]], anc[0], [anc[anc_len - 1]], [1, -1]) # a > b 1st bit\n",
    "    n_control_not(qc, [a[0], b[0]], anc[1], [anc[anc_len - 1]], [-1, 1]) # a < b 1st bit\n",
    "    n_control_not(qc, [a[1], b[1]], anc[2], [anc[anc_len - 1]], [1, -1]) # a > b 2nd bit\n",
    "    n_control_not(qc, [a[1], b[1]], anc[3], [anc[anc_len - 1]], [-1, 1]) # a < b 2nd bit\n",
    "    n_control_not(qc, [a[2], b[2]], anc[4], [anc[anc_len - 1]], [1, -1]) # a > b 3rd bit\n",
    "    n_control_not(qc, [a[2], b[2]], anc[5], [anc[anc_len - 1]], [-1, 1]) # a < b 3rd bit\n",
    "    \n",
    "    # now to the compare step\n",
    "    comp_anc = [anc[6], anc[7], anc[8]]\n",
    "    qc.cx(anc[0], target)\n",
    "    n_control_not(qc, [anc[0], anc[1], anc[2]], target, comp_anc, [-1, -1, 1])\n",
    "    n_control_not(qc, [anc[0], anc[1], anc[2], anc[3], anc[4]], target, comp_anc, [-1, -1, -1, -1, 1])\n",
    "    \n",
    "    # clean up the anc               \n",
    "    n_control_not(qc, [a[2], b[2]], anc[5], [anc[anc_len - 1]], [-1, 1]) # a < b 3rd bit\n",
    "    n_control_not(qc, [a[2], b[2]], anc[4], [anc[anc_len - 1]], [1, -1]) # a > b 3rd bit\n",
    "    n_control_not(qc, [a[1], b[1]], anc[3], [anc[anc_len - 1]], [-1, 1]) # a < b 2nd bit\n",
    "    n_control_not(qc, [a[1], b[1]], anc[2], [anc[anc_len - 1]], [1, -1]) # a > b 2nd bit\n",
    "    n_control_not(qc, [a[0], b[0]], anc[1], [anc[anc_len - 1]], [-1, 1]) # a < b 1st bit\n",
    "    n_control_not(qc, [a[0], b[0]], anc[0], [anc[anc_len - 1]], [1, -1]) # a > b 1st bit"
   ]
  },
  {
   "cell_type": "markdown",
   "metadata": {},
   "source": [
    "Let's see how the 3-qubit comparator looks like."
   ]
  },
  {
   "cell_type": "code",
   "execution_count": null,
   "metadata": {},
   "outputs": [],
   "source": [
    "qc = QuantumCircuit()\n",
    "q = QuantumRegister(6)\n",
    "anc = QuantumRegister(9)\n",
    "target = QuantumRegister(1)\n",
    "qc.add(q)\n",
    "qc.add(anc)\n",
    "qc.add(target)\n",
    "\n",
    "three_bit_comparator(qc, [q[0], q[1], q[2]], [q[3], q[4], q[5]], anc, target[0])\n",
    "\n",
    "circuit_drawer(qc)"
   ]
  },
  {
   "cell_type": "markdown",
   "metadata": {},
   "source": [
    "The next step is use the comparator and do Grover's search to find a larger value. We'll be using Boyer et al version of Grover's algorithm which goes as follow.\n",
    "\n",
    "1. initialize $m = 1$ and set $\\lambda = 6/5$\n",
    "2. choose `j` uniformly at random among the nonnegative integers smaller than `m`\n",
    "3. apply j iterations of Grover's algorithm starting from initial state $\\left|\\Psi_0\\right\\rangle = \\sum_i \\frac{1}{\\sqrt{N}}\\left|i\\right\\rangle$\n",
    "4. observe the register: let $i$ be the outcome\n",
    "5. if `T[i] = x`, the problem is solved: **exit**\n",
    "6. otherwise, set `m` to min($\\lambda m$, $\\sqrt{N}$)    \n",
    "and go back to step 2."
   ]
  },
  {
   "cell_type": "markdown",
   "metadata": {},
   "source": [
    "We will need inverse around the mean function"
   ]
  },
  {
   "cell_type": "code",
   "execution_count": null,
   "metadata": {},
   "outputs": [],
   "source": [
    "def inv_around_mean(circuit, qs, anc):\n",
    "    n = len(qs)\n",
    "    for i in range(n):\n",
    "        circuit.h(qs[i])\n",
    "    for i in range(n):\n",
    "        circuit.x(qs[i])\n",
    "    circuit.h(qs[n-1])\n",
    "    n_control_not(circuit, [qs[i] for i in range(n-1)], qs[n-1], anc)\n",
    "    circuit.h(qs[n-1])\n",
    "    for i in range(n):\n",
    "        circuit.x(qs[i])\n",
    "    for i in range(n):\n",
    "        circuit.h(qs[i])"
   ]
  },
  {
   "cell_type": "markdown",
   "metadata": {},
   "source": [
    "And now for the main part, finding a larger value using Grover's algorithm."
   ]
  },
  {
   "cell_type": "code",
   "execution_count": null,
   "metadata": {},
   "outputs": [],
   "source": [
    "def int_to_qubit(n, circuit, qs):\n",
    "    if n >= 8:\n",
    "        raise ValueError('this function does not support n larger than 7, input n = {}'.format(n))\n",
    "    if len(qs) < 3:\n",
    "        raise ValueError('input registers is less than 3 qubits')\n",
    "    bstr = '{0:03b}'.format(n)\n",
    "    for i in range(3):\n",
    "        if bstr[-1 + (-1 * i)]:\n",
    "            circuit.x(qs[i])\n",
    "\n",
    "def init_grover(circuit, f_input, f_output):\n",
    "    for j in range(len(f_input)):\n",
    "        circuit.h(f_input[j])\n",
    "    circuit.x(f_output)\n",
    "    circuit.h(f_output)\n",
    "\n",
    "def grover_find_larger(current_max, device='local_qasm_simulator'):\n",
    "    \"\"\"\n",
    "    return value:\n",
    "        max_value: highest value found\n",
    "        iterations: number of iterations run\n",
    "        function_evaluation_counts: number of function evaluated\n",
    "    \"\"\"\n",
    "    m = 1\n",
    "    lamb = 6/5\n",
    "    j = random.randrange(m)\n",
    "    \n",
    "    f_eval_count = 0\n",
    "    iterations = 1\n",
    "    \n",
    "    # we do this until we can't find any larger\n",
    "    while iterations <= 10:\n",
    "        # init quantum circuit\n",
    "        qc = QuantumCircuit()\n",
    "        a = QuantumRegister(3)\n",
    "        b = QuantumRegister(3)\n",
    "        anc = QuantumRegister(9)\n",
    "        target = QuantumRegister(1)\n",
    "        cs = ClassicalRegister(3)\n",
    "        qc.add(a)\n",
    "        qc.add(b)\n",
    "        qc.add(anc)\n",
    "        qc.add(target)\n",
    "        qc.add(cs)\n",
    "\n",
    "        # set current max to b\n",
    "        int_to_qubit(current_max, qc, b)\n",
    "\n",
    "        init_grover(qc, a, target)\n",
    "    \n",
    "        for t in range(m):\n",
    "            # Apply m iterations\n",
    "            three_bit_comparator(qc, a, b, anc, target[0])\n",
    "            inv_around_mean(qc, a, anc)\n",
    "            f_eval_count += 1\n",
    "        \n",
    "        qc.measure(a, cs)\n",
    "  \n",
    "        # Execute circuit\n",
    "        job = execute([qc], backend=device, shots=1)\n",
    "        \n",
    "        result = job.result()\n",
    "\n",
    "        counts = result.get_counts(qc)\n",
    "#         print('iteration #{}: results: {}, func_eval_count = {}'.format(iterations, counts, f_eval_count))\n",
    "#         print('iteration #{}: results: {}, func_eval_count = {}'.format(iterations, int(next(iter(counts)), 2), f_eval_count))\n",
    "        iterations += 1\n",
    "        m = int(min(lamb * m, 3))\n",
    "        new_max = int(next(iter(counts)), 2)\n",
    "        if new_max > current_max:\n",
    "            current_max = new_max\n",
    "            break\n",
    "    return (current_max, iterations, f_eval_count)"
   ]
  },
  {
   "cell_type": "markdown",
   "metadata": {},
   "source": [
    "We already implemented all the components we need in order to run maximum finding algorithm.\n",
    "\n",
    "Let's start with the simplest case, the case where every index of search space corresponds to the index value itself."
   ]
  },
  {
   "cell_type": "code",
   "execution_count": null,
   "metadata": {},
   "outputs": [],
   "source": [
    "import warnings\n",
    "\n",
    "def fxn():\n",
    "    warnings.warn(\"deprecated\", DeprecationWarning)\n",
    "\n",
    "with warnings.catch_warnings():\n",
    "    warnings.simplefilter(\"ignore\")\n",
    "    fxn()\n",
    "\n",
    "    # maximum finding scenario 1: f[x] = x\n",
    "\n",
    "    n = 0\n",
    "    iterations = 0\n",
    "    f_count = 0\n",
    "    loop = 0\n",
    "\n",
    "    while True:\n",
    "        nn, nit, nfc = grover_find_larger(n)\n",
    "        iterations += nit\n",
    "        f_count += nfc\n",
    "        loop += 1\n",
    "\n",
    "        print('loop #{}: max = {}, called with {}, result = {}, f_count = {}'.format(loop, max(n, nn), n, nn, f_count))\n",
    "        if n >= nn:\n",
    "            break\n",
    "        else:\n",
    "            n = nn\n",
    "        \n",
    "print('............finished..............')\n"
   ]
  },
  {
   "cell_type": "markdown",
   "metadata": {},
   "source": [
    "### Now let's test the same one with real devices."
   ]
  },
  {
   "cell_type": "code",
   "execution_count": null,
   "metadata": {},
   "outputs": [],
   "source": [
    "import warnings\n",
    "\n",
    "def fxn():\n",
    "    warnings.warn(\"deprecated\", DeprecationWarning)\n",
    "\n",
    "with warnings.catch_warnings():\n",
    "    warnings.simplefilter(\"ignore\")\n",
    "    fxn()\n",
    "\n",
    "    # maximum finding scenario 1: f[x] = x\n",
    "\n",
    "    n = 0\n",
    "    iterations = 0\n",
    "    f_count = 0\n",
    "    loop = 0\n",
    "\n",
    "    while True:\n",
    "        nn, nit, nfc = grover_find_larger(n, 'ibmqx5')\n",
    "        iterations += nit\n",
    "        f_count += nfc\n",
    "        loop += 1\n",
    "\n",
    "        print('loop #{}: max = {}, called with {}, result = {}, f_count = {}'.format(loop, max(n, nn), n, nn, f_count))\n",
    "        if n >= nn:\n",
    "            break\n",
    "        else:\n",
    "            n = nn\n",
    "        \n",
    "print('............finished..............')"
   ]
  },
  {
   "cell_type": "code",
   "execution_count": null,
   "metadata": {},
   "outputs": [],
   "source": []
  }
 ],
 "metadata": {
  "kernelspec": {
   "display_name": "Python 3",
   "language": "python",
   "name": "python3"
  },
  "language_info": {
   "codemirror_mode": {
    "name": "ipython",
    "version": 3
   },
   "file_extension": ".py",
   "mimetype": "text/x-python",
   "name": "python",
   "nbconvert_exporter": "python",
   "pygments_lexer": "ipython3",
   "version": "3.6.5"
  }
 },
 "nbformat": 4,
 "nbformat_minor": 2
}
