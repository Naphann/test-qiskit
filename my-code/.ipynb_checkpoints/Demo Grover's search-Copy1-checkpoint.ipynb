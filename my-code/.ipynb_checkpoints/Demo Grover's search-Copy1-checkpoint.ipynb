{
 "cells": [
  {
   "cell_type": "markdown",
   "metadata": {},
   "source": [
    "## Finding Maximum"
   ]
  },
  {
   "cell_type": "markdown",
   "metadata": {},
   "source": [
    "First before implementing anything, we need to import the stuff we need"
   ]
  },
  {
   "cell_type": "code",
   "execution_count": 15,
   "metadata": {},
   "outputs": [],
   "source": [
    "# importing QISKit\n",
    "from qiskit import QuantumCircuit, ClassicalRegister, QuantumRegister, QISKitError, QuantumJob\n",
    "from qiskit import available_backends, execute, register, get_backend, compile\n",
    "\n",
    "from qiskit.tools import visualization\n",
    "from qiskit.tools.visualization import circuit_drawer"
   ]
  },
  {
   "cell_type": "markdown",
   "metadata": {},
   "source": [
    "to find maximum value, first we need comparator. To make a comparator, multiple-bit-control gate is needed. We implement the n-bit-control gate here."
   ]
  },
  {
   "cell_type": "code",
   "execution_count": 18,
   "metadata": {},
   "outputs": [],
   "source": [
    "def n_control(circuit, q_array, target, ancillary_array, flip_array=None):\n",
    "    # error checking\n",
    "    if flip_array is not None and len(q_array) != len(flip_array):\n",
    "        raise ValueError(\"q_array(len:{}) and flip_array(len:{}) must have the same length\".format(len(q_array), len(flip_array)))\n",
    "    if len(ancillary_array) < len(q_array) - 2:\n",
    "        raise ValueError(\"ancillary array length is not enough ({}) for q_array ({})\".format(len(ancillary_array), len(q_array)))\n",
    "    if flip_array is None:\n",
    "        flip_array = [1 for _ in range(len(q_array))]\n",
    "    # todo handle wrong flip_array\n",
    "    \n",
    "    n = len(q_array)\n",
    "    \n",
    "    # put X-gate if flip\n",
    "    for i in range(n):\n",
    "        if flip_array[i] == -1:\n",
    "            circuit.x(q_array[i])\n",
    "    \n",
    "    circuit.ccx(q_array[0], q_array[1], ancillary_array[0])\n",
    "    for i in range(2, n-1):\n",
    "        circuit.ccx(q_array[i], ancillary_array[i-2], ancillary_array[i-1])\n",
    "    circuit.ccx(q_array[n-1], ancillary_array[n-3], target)\n",
    "    for i in reversed(range(2, n-1)):\n",
    "        circuit.ccx(q_array[i], ancillary_array[i-2], ancillary_array[i-1])\n",
    "    circuit.ccx(q_array[0], q_array[1], ancillary_array[0])\n",
    "    \n",
    "    # clean up X-gate\n",
    "    for i in range(n):\n",
    "        if flip_array[i] == -1:\n",
    "            circuit.x(q_array[i])"
   ]
  },
  {
   "cell_type": "markdown",
   "metadata": {},
   "source": [
    "Let's see how the n_control circuit works by looking at 4-bit control gate where second and third bit should be flipped."
   ]
  },
  {
   "cell_type": "code",
   "execution_count": null,
   "metadata": {},
   "outputs": [],
   "source": []
  }
 ],
 "metadata": {
  "kernelspec": {
   "display_name": "Python 3",
   "language": "python",
   "name": "python3"
  },
  "language_info": {
   "codemirror_mode": {
    "name": "ipython",
    "version": 3
   },
   "file_extension": ".py",
   "mimetype": "text/x-python",
   "name": "python",
   "nbconvert_exporter": "python",
   "pygments_lexer": "ipython3",
   "version": "3.6.5"
  }
 },
 "nbformat": 4,
 "nbformat_minor": 2
}
