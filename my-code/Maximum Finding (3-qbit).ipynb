{
 "cells": [
  {
   "cell_type": "markdown",
   "metadata": {},
   "source": [
    "# Maximum Finding (3-bit version)\n",
    "\n",
    "The 3-bit version is created in order to limit the qubit usage so that it can be run on the IBM-Q machine.\n",
    "\n",
    "## The outline of algorithm\n",
    "\n",
    "We will use 3-qbit register to store our current maximum value called `qc`. In order to find the maximum value we need to repeatedly find one larger value (index) than `qc` and stop when we can't find any. For each iteration we will use `qs` to store our larger than `qc` value. \n",
    "\n",
    "0. randomly initialize `qc` and measure its value\n",
    "1. initialize `qs` into super position of all states \n",
    "2. apply Grover's algorithm using 3-bit comparator as the black-box function comparing `qs` and `qc` and set the input search space on `qs`\n",
    "3. if `qs` is larger than `qc` replace `qc` with `qs` value and repeat step (2)\n",
    "4. if `qs` is not larger than `qc` then we conclude that `qs` is the maximum value"
   ]
  },
  {
   "cell_type": "markdown",
   "metadata": {},
   "source": [
    "To start we need to import all the packages we need."
   ]
  },
  {
   "cell_type": "code",
   "execution_count": null,
   "metadata": {},
   "outputs": [],
   "source": [
    "# importing QISKit\n",
    "from qiskit import QuantumCircuit, ClassicalRegister, QuantumRegister, QISKitError\n",
    "from qiskit import available_backends, execute, register, get_backend, compile\n",
    "\n",
    "from qiskit.tools import visualization\n",
    "from qiskit.tools.visualization import circuit_drawer"
   ]
  },
  {
   "cell_type": "markdown",
   "metadata": {},
   "source": [
    "To find the maximum value we need comparator first. Since we will be using multiple qubit control-cot gate, we will make a function `n_control_not()` which we will use a lot later on."
   ]
  },
  {
   "cell_type": "code",
   "execution_count": null,
   "metadata": {},
   "outputs": [],
   "source": [
    "def n_control_not(circuit, q_array, target, ancillary_array, flip_array=None):\n",
    "    # error checking\n",
    "    if flip_array is not None and len(q_array) != len(flip_array):\n",
    "        raise ValueError(\"q_array(len:{}) and flip_array(len:{}) must have the same length\".format(len(q_array), len(flip_array)))\n",
    "    if len(ancillary_array) < len(q_array) - 2:\n",
    "        raise ValueError(\"ancillary array length is not enough ({}) for q_array ({})\".format(len(ancillary_array), len(q_array)))\n",
    "    if flip_array is None:\n",
    "        flip_array = [1 for _ in range(len(q_array))]\n",
    "    # todo handle wrong flip_array\n",
    "    \n",
    "    n = len(q_array)\n",
    "    \n",
    "    # put X-gate if flip\n",
    "    for i in range(n):\n",
    "        if flip_array[i] == -1:\n",
    "            circuit.x(q_array[i])\n",
    "        \n",
    "    # special case for only 2 bits\n",
    "    if n == 2:\n",
    "        circuit.ccx(q_array[0], q_array[1], target)\n",
    "    else:\n",
    "        circuit.ccx(q_array[0], q_array[1], ancillary_array[0])\n",
    "        for i in range(2, n-1):\n",
    "            circuit.ccx(q_array[i], ancillary_array[i-2], ancillary_array[i-1])\n",
    "        circuit.ccx(q_array[n-1], ancillary_array[n-3], target)\n",
    "        for i in reversed(range(2, n-1)):\n",
    "            circuit.ccx(q_array[i], ancillary_array[i-2], ancillary_array[i-1])\n",
    "        circuit.ccx(q_array[0], q_array[1], ancillary_array[0])\n",
    "    \n",
    "    # clean up X-gate\n",
    "    for i in range(n):\n",
    "        if flip_array[i] == -1:\n",
    "            circuit.x(q_array[i])"
   ]
  },
  {
   "cell_type": "markdown",
   "metadata": {},
   "source": [
    "We already have the n_control_not gate so now, onto the comparator."
   ]
  },
  {
   "cell_type": "code",
   "execution_count": null,
   "metadata": {},
   "outputs": [],
   "source": [
    "def three_bit_comparator(qc, a, b, anc, target):\n",
    "    # we will store a > b for each bit in 0, 2, 4 bit (from msb to lsb) of ancillary register\n",
    "    # and for b > a for each bit in 1, 3, 5 bit\n",
    "    \n",
    "    # TODO: reduce the qubit needed\n",
    "    \n",
    "    # TODO: let's check whether anc is enough\n",
    "    anc_len = len(anc)\n",
    "    if anc_len < 9:\n",
    "        raise ValueError(\"ancillary bit is not enough: anc_len is {}\".format(anc_len))\n",
    "    \n",
    "    n = 3\n",
    "    \n",
    "    n_control_not(qc, [a[0], b[0]], anc[0], [anc[anc_len - 1]], [1, -1]) # a > b 1st bit\n",
    "    n_control_not(qc, [a[0], b[0]], anc[1], [anc[anc_len - 1]], [-1, 1]) # a < b 1st bit\n",
    "    n_control_not(qc, [a[1], b[1]], anc[2], [anc[anc_len - 1]], [1, -1]) # a > b 2nd bit\n",
    "    n_control_not(qc, [a[1], b[1]], anc[3], [anc[anc_len - 1]], [-1, 1]) # a < b 2nd bit\n",
    "    n_control_not(qc, [a[2], b[2]], anc[4], [anc[anc_len - 1]], [1, -1]) # a > b 3rd bit\n",
    "    n_control_not(qc, [a[2], b[2]], anc[5], [anc[anc_len - 1]], [-1, 1]) # a < b 3rd bit\n",
    "    \n",
    "    # now to the compare step\n",
    "    comp_anc = [anc[6], anc[7], anc[8]]\n",
    "    qc.cx(anc[0], target)\n",
    "    n_control_not(qc, [anc[0], anc[1], anc[2]], target, comp_anc, [-1, -1, 1])\n",
    "    n_control_not(qc, [anc[0], anc[1], anc[2], anc[3], anc[4]], target, comp_anc, [-1, -1, -1, -1, 1])\n",
    "    \n",
    "    # clean up the anc               \n",
    "    n_control_not(qc, [a[2], b[2]], anc[5], [anc[anc_len - 1]], [-1, 1]) # a < b 3rd bit\n",
    "    n_control_not(qc, [a[2], b[2]], anc[4], [anc[anc_len - 1]], [1, -1]) # a > b 3rd bit\n",
    "    n_control_not(qc, [a[1], b[1]], anc[3], [anc[anc_len - 1]], [-1, 1]) # a < b 2nd bit\n",
    "    n_control_not(qc, [a[1], b[1]], anc[2], [anc[anc_len - 1]], [1, -1]) # a > b 2nd bit\n",
    "    n_control_not(qc, [a[0], b[0]], anc[1], [anc[anc_len - 1]], [-1, 1]) # a < b 1st bit\n",
    "    n_control_not(qc, [a[0], b[0]], anc[0], [anc[anc_len - 1]], [1, -1]) # a > b 1st bit"
   ]
  },
  {
   "cell_type": "markdown",
   "metadata": {},
   "source": [
    "Let's see how the 3-qubit comparator looks like."
   ]
  },
  {
   "cell_type": "code",
   "execution_count": null,
   "metadata": {},
   "outputs": [],
   "source": [
    "qc = QuantumCircuit()\n",
    "q = QuantumRegister(6)\n",
    "anc = QuantumRegister(9)\n",
    "target = QuantumRegister(1)\n",
    "qc.add(q)\n",
    "qc.add(anc)\n",
    "qc.add(target)\n",
    "\n",
    "three_bit_comparator(qc, [q[0], q[1], q[2]], [q[3], q[4], q[5]], anc, target[0])\n",
    "\n",
    "circuit_drawer(qc)"
   ]
  },
  {
   "cell_type": "markdown",
   "metadata": {},
   "source": [
    "The next step is use the comparator and do Grover's search to find a larger value. Using Boyer et al version of Grover's algorithm."
   ]
  },
  {
   "cell_type": "markdown",
   "metadata": {},
   "source": [
    "We will need inverse around the mean function"
   ]
  },
  {
   "cell_type": "code",
   "execution_count": null,
   "metadata": {},
   "outputs": [],
   "source": [
    "def inv_around_mean(circuit, qs, anc):\n",
    "    n = len(qs)\n",
    "    for i in range(n):\n",
    "        circuit.h(qs[i])\n",
    "    for i in range(n):\n",
    "        circuit.x(qs[i])\n",
    "    circuit.h(qs[n-1])\n",
    "    n_control(circuit, [q[i] for i in range(n-1)], q[n-1], anc)\n",
    "    circuit.h(qs[n-1])\n",
    "    for i in range(n):\n",
    "        circuit.x(qs[i])\n",
    "    for i in range(n):\n",
    "        circuit.h(qs[i])"
   ]
  },
  {
   "cell_type": "markdown",
   "metadata": {},
   "source": [
    "And now for the main part, finding a larger value using Grover's algorithm."
   ]
  },
  {
   "cell_type": "code",
   "execution_count": null,
   "metadata": {},
   "outputs": [],
   "source": [
    "def grover_find_larger(circuit, qs, qc, anc):\n",
    "    pass"
   ]
  }
 ],
 "metadata": {
  "kernelspec": {
   "display_name": "Python 3",
   "language": "python",
   "name": "python3"
  },
  "language_info": {
   "codemirror_mode": {
    "name": "ipython",
    "version": 3
   },
   "file_extension": ".py",
   "mimetype": "text/x-python",
   "name": "python",
   "nbconvert_exporter": "python",
   "pygments_lexer": "ipython3",
   "version": "3.6.5"
  }
 },
 "nbformat": 4,
 "nbformat_minor": 2
}
