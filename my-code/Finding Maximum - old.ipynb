{
 "cells": [
  {
   "cell_type": "markdown",
   "metadata": {},
   "source": [
    "## Finding Maximum"
   ]
  },
  {
   "cell_type": "markdown",
   "metadata": {},
   "source": [
    "First before implementing anything, we need to import the stuff we need"
   ]
  },
  {
   "cell_type": "code",
   "execution_count": null,
   "metadata": {},
   "outputs": [],
   "source": [
    "# importing QISKit\n",
    "from qiskit import QuantumCircuit, ClassicalRegister, QuantumRegister, QISKitError, QuantumJob\n",
    "from qiskit import available_backends, execute, register, get_backend, compile\n",
    "\n",
    "from qiskit.tools import visualization\n",
    "from qiskit.tools.visualization import circuit_drawer"
   ]
  },
  {
   "cell_type": "markdown",
   "metadata": {},
   "source": [
    "to find maximum value, first we need comparator. To make a comparator, multiple-bit-control gate is needed. We implement the n-bit-control gate here."
   ]
  },
  {
   "cell_type": "code",
   "execution_count": null,
   "metadata": {},
   "outputs": [],
   "source": [
    "def n_control(circuit, q_array, target, ancillary_array, flip_array=None):\n",
    "    # error checking\n",
    "    if flip_array is not None and len(q_array) != len(flip_array):\n",
    "        raise ValueError(\"q_array(len:{}) and flip_array(len:{}) must have the same length\".format(len(q_array), len(flip_array)))\n",
    "    if len(ancillary_array) < len(q_array) - 2:\n",
    "        raise ValueError(\"ancillary array length is not enough ({}) for q_array ({})\".format(len(ancillary_array), len(q_array)))\n",
    "    if flip_array is None:\n",
    "        flip_array = [1 for _ in range(len(q_array))]\n",
    "    # todo handle wrong flip_array\n",
    "    \n",
    "    n = len(q_array)\n",
    "    \n",
    "    # put X-gate if flip\n",
    "    for i in range(n):\n",
    "        if flip_array[i] == -1:\n",
    "            circuit.x(q_array[i])\n",
    "        \n",
    "    # special case for only 2 bits\n",
    "    if n == 2:\n",
    "        circuit.ccx(q_array[0], q_array[1], target)\n",
    "    else:\n",
    "        circuit.ccx(q_array[0], q_array[1], ancillary_array[0])\n",
    "        for i in range(2, n-1):\n",
    "            circuit.ccx(q_array[i], ancillary_array[i-2], ancillary_array[i-1])\n",
    "        circuit.ccx(q_array[n-1], ancillary_array[n-3], target)\n",
    "        for i in reversed(range(2, n-1)):\n",
    "            circuit.ccx(q_array[i], ancillary_array[i-2], ancillary_array[i-1])\n",
    "        circuit.ccx(q_array[0], q_array[1], ancillary_array[0])\n",
    "    \n",
    "    # clean up X-gate\n",
    "    for i in range(n):\n",
    "        if flip_array[i] == -1:\n",
    "            circuit.x(q_array[i])"
   ]
  },
  {
   "cell_type": "markdown",
   "metadata": {},
   "source": [
    "Let's see how the n_control circuit works by looking at 4-bit control gate where second and third bit should be flipped."
   ]
  },
  {
   "cell_type": "code",
   "execution_count": null,
   "metadata": {},
   "outputs": [],
   "source": [
    "qc = QuantumCircuit()\n",
    "q = QuantumRegister(4)\n",
    "anc = QuantumRegister(4)\n",
    "target = QuantumRegister(1)\n",
    "qc.add(q)\n",
    "qc.add(anc)\n",
    "qc.add(target)\n",
    "\n",
    "n_control(qc, [q[0], q[1], q[2], q[3]], target[0], [anc[0], anc[1], anc[2], anc[3]], [1, -1, -1, 1])\n",
    "\n",
    "circuit_drawer(qc)"
   ]
  },
  {
   "cell_type": "markdown",
   "metadata": {},
   "source": [
    "We can see that the n-control gate works fine. Now to the next step, the comparator. We'll make a 4-bit comparator thus using 8 q-bits for data (4 for A; 4 for B), 8 q-bits for ancillary, and 1 for target. The output (target) will be 1 if A is larger than B."
   ]
  },
  {
   "cell_type": "code",
   "execution_count": null,
   "metadata": {},
   "outputs": [],
   "source": [
    "def four_bit_comparator(qc, a, b, anc, target):\n",
    "    # we will store a > b for each bit in 0, 2, 4, 6 (from msb to lsb)\n",
    "    # and for b > a for each bit in 1, 3, 5, 7\n",
    "    \n",
    "    # TODO: let's check whether anc is enough\n",
    "    anc_len = len(anc)\n",
    "    if anc_len < 16:\n",
    "        raise ValueError(\"ancillary bit is not enough: anc_len is {}\".format(anc_len))\n",
    "    \n",
    "    n = 4\n",
    "    \n",
    "    n_control(qc, [a[0], b[0]], anc[0], [anc[anc_len - 1]], [1, -1]) # a > b 1st bit\n",
    "    n_control(qc, [a[0], b[0]], anc[1], [anc[anc_len - 1]], [-1, 1]) # a < b 1st bit\n",
    "    n_control(qc, [a[1], b[1]], anc[2], [anc[anc_len - 1]], [1, -1]) # a > b 2nd bit\n",
    "    n_control(qc, [a[1], b[1]], anc[3], [anc[anc_len - 1]], [-1, 1]) # a < b 2nd bit\n",
    "    n_control(qc, [a[2], b[2]], anc[4], [anc[anc_len - 1]], [1, -1]) # a > b 3rd bit\n",
    "    n_control(qc, [a[2], b[2]], anc[5], [anc[anc_len - 1]], [-1, 1]) # a < b 3rd bit\n",
    "    n_control(qc, [a[3], b[3]], anc[6], [anc[anc_len - 1]], [1, -1]) # a > b 4th bit\n",
    "    n_control(qc, [a[3], b[3]], anc[7], [anc[anc_len - 1]], [-1, 1]) # a < b 4th bit\n",
    "    \n",
    "    # now to the compare step\n",
    "    comp_anc = [anc[8], anc[9], anc[10], anc[11], anc[12], anc[13], anc[14], anc[15]]\n",
    "    qc.cx(anc[0], target)\n",
    "    n_control(qc, [anc[0], anc[1], anc[2]], target, comp_anc, [-1, -1, 1])\n",
    "    n_control(qc, [anc[0], anc[1], anc[2], anc[3], anc[4]], target, comp_anc, [-1, -1, -1, -1, 1])\n",
    "    n_control(qc, [anc[0], anc[1], anc[2], anc[3], anc[4], anc[5], anc[6]], target, comp_anc, [-1, -1, -1, -1, -1, -1, 1])\n",
    "    \n",
    "    # clean up the anc               \n",
    "    n_control(qc, [a[3], b[3]], anc[7], [anc[anc_len - 1]], [-1, 1]) # a < b 4th bit\n",
    "    n_control(qc, [a[3], b[3]], anc[6], [anc[anc_len - 1]], [1, -1]) # a > b 4th bit\n",
    "    n_control(qc, [a[2], b[2]], anc[5], [anc[anc_len - 1]], [-1, 1]) # a < b 3rd bit\n",
    "    n_control(qc, [a[2], b[2]], anc[4], [anc[anc_len - 1]], [1, -1]) # a > b 3rd bit\n",
    "    n_control(qc, [a[1], b[1]], anc[3], [anc[anc_len - 1]], [-1, 1]) # a < b 2nd bit\n",
    "    n_control(qc, [a[1], b[1]], anc[2], [anc[anc_len - 1]], [1, -1]) # a > b 2nd bit\n",
    "    n_control(qc, [a[0], b[0]], anc[1], [anc[anc_len - 1]], [-1, 1]) # a < b 1st bit\n",
    "    n_control(qc, [a[0], b[0]], anc[0], [anc[anc_len - 1]], [1, -1]) # a > b 1st bit"
   ]
  },
  {
   "cell_type": "markdown",
   "metadata": {},
   "source": [
    "Let's see if how the comparator circuit goes"
   ]
  },
  {
   "cell_type": "code",
   "execution_count": null,
   "metadata": {},
   "outputs": [],
   "source": [
    "qc = QuantumCircuit()\n",
    "q = QuantumRegister(8)\n",
    "anc = QuantumRegister(16)\n",
    "target = QuantumRegister(1)\n",
    "qc.add(q)\n",
    "qc.add(anc)\n",
    "qc.add(target)\n",
    "\n",
    "four_bit_comparator(qc, [q[0], q[1], q[2], q[3]], [q[4], q[5], q[6], q[7]], anc, target[0])\n",
    "\n",
    "circuit_drawer(qc)"
   ]
  },
  {
   "cell_type": "markdown",
   "metadata": {},
   "source": [
    "Now, we need to implement the Grover's search algorithm which we will used in the process of finding the maximum value.\n",
    "\n",
    "since we already have the comparator as the black box Uf function the next step is to implement the inversion around the mean."
   ]
  },
  {
   "cell_type": "code",
   "execution_count": null,
   "metadata": {},
   "outputs": [],
   "source": [
    "def inv_around_mean(circuit, qs, anc):\n",
    "    n = len(qs)\n",
    "    for i in range(n):\n",
    "        circuit.h(qs[i])\n",
    "    for i in range(n):\n",
    "        circuit.x(qs[i])\n",
    "    circuit.h(qs[n-1])\n",
    "    n_control(circuit, [q[i] for i in range(n-1)], q[n-1], anc)\n",
    "    circuit.h(qs[n-1])\n",
    "    for i in range(n):\n",
    "        circuit.x(qs[i])\n",
    "    for i in range(n):\n",
    "        circuit.h(qs[i])\n",
    "    "
   ]
  },
  {
   "cell_type": "markdown",
   "metadata": {},
   "source": [
    "Let's see how the inversion around the mean circuit looks"
   ]
  },
  {
   "cell_type": "code",
   "execution_count": null,
   "metadata": {},
   "outputs": [],
   "source": [
    "qc = QuantumCircuit()\n",
    "q = QuantumRegister(8)\n",
    "anc = QuantumRegister(5)\n",
    "target = QuantumRegister(1)\n",
    "qc.add(q)\n",
    "qc.add(anc)\n",
    "qc.add(target)\n",
    "\n",
    "# four_bit_comparator(qc, [q[0], q[1], q[2], q[3]], [q[4], q[5], q[6], q[7]], anc, target[0])\n",
    "inv_around_mean(qc, [q[i] for i in range(8)], [anc[i] for i in range(len(anc))])\n",
    "\n",
    "circuit_drawer(qc)"
   ]
  },
  {
   "cell_type": "markdown",
   "metadata": {},
   "source": [
    "Now what's left is to contruct Grover's iteration by making the black box function Uf from 4-bit comparator."
   ]
  },
  {
   "cell_type": "code",
   "execution_count": null,
   "metadata": {},
   "outputs": [],
   "source": []
  }
 ],
 "metadata": {
  "kernelspec": {
   "display_name": "Python 3",
   "language": "python",
   "name": "python3"
  },
  "language_info": {
   "codemirror_mode": {
    "name": "ipython",
    "version": 3
   },
   "file_extension": ".py",
   "mimetype": "text/x-python",
   "name": "python",
   "nbconvert_exporter": "python",
   "pygments_lexer": "ipython3",
   "version": "3.6.5"
  }
 },
 "nbformat": 4,
 "nbformat_minor": 2
}
