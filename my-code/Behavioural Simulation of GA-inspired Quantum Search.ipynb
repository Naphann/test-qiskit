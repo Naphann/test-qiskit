{
 "cells": [
  {
   "cell_type": "markdown",
   "metadata": {},
   "source": [
    "# Behavioural Simulation of GA-inspired Quantum Search\n",
    "\n",
    "GA-inspired Quantum Search can be simulated easily via classical computation because of the nature of doing successive of Grover's algorithm without the need to do complex multiple qubit gate. "
   ]
  },
  {
   "cell_type": "markdown",
   "metadata": {},
   "source": [
    "Since we want to see the our quantum states easily we will need to visualize the states. So we import the visualization stuff and other required packages."
   ]
  },
  {
   "cell_type": "code",
   "execution_count": null,
   "metadata": {},
   "outputs": [],
   "source": [
    "import matplotlib\n",
    "import random\n",
    "import math\n",
    "\n",
    "import itertools\n",
    "import bisect\n",
    "\n",
    "%matplotlib inline"
   ]
  },
  {
   "cell_type": "markdown",
   "metadata": {},
   "source": [
    "Before we begin, we need to implement the state class to represents our quantum states for easy checking and easy to use.\n",
    "\n",
    "We will split states into different parts and for each part the lower the index the more significant the bit is."
   ]
  },
  {
   "cell_type": "code",
   "execution_count": null,
   "metadata": {},
   "outputs": [],
   "source": [
    "class State:\n",
    "    \n",
    "    def __init__(self, n):\n",
    "        self.len = n\n",
    "        self.state = [([0] * n, 1)]\n",
    "        \n",
    "    def get_mean(self, n=None):\n",
    "        if n is None:\n",
    "            n = self.len\n",
    "        mean = sum([amp for st, amp in self.state])/(2**n)\n",
    "        return mean\n",
    "        \n",
    "    def measure(self, a, b):\n",
    "        n = self.len\n",
    "        if a > b or a < 0 or b > n:\n",
    "            return False\n",
    "        cum_prob = [amp * amp for st, amp in self.state]\n",
    "\n",
    "        for i in range(1, len(self.state)):\n",
    "            cum_prob[i] += cum_prob[i - 1]\n",
    "        r = random.uniform(0, 1)\n",
    "        print('random = {}'.format(r))\n",
    "        idx = bisect.bisect_left(cum_prob, r)\n",
    "        print('id = {}'.format(idx))\n",
    "        result = self.state[idx][0][a:b]\n",
    "        self.state = list(filter(lambda st: st[0][a:b] == result, self.state))\n",
    "        self.__normalize__()\n",
    "        return result\n",
    "    \n",
    "    def set_value(self, a, b, val):\n",
    "        # check whether val can fit into (a,b) range\n",
    "        bstr = '{0:b}'.format(val).zfill(b - a)\n",
    "        if len(bstr) > b - a:\n",
    "            raise valueError('value is too large')\n",
    "        bstr_l = [int(x) for x in bstr]\n",
    "        self.measure(a, b)\n",
    "        for i in range(len(self.state)):\n",
    "            self.state[i][0][a:b] = bstr_l\n",
    "            \n",
    "        self.__cleanup__()\n",
    "            \n",
    "    \n",
    "    def hadamard(self, a, b):\n",
    "        n = self.len\n",
    "        if a > b or a < 0 or b > n:\n",
    "            raise valueError(\"can't hadamard this right now: reason 1\")\n",
    "        if list(filter(lambda st: st[0][a:b] != ([0]*(b-a)), self.state)):\n",
    "            raise valueError(\"can't hadamard this right now: reason 2\")\n",
    "        temp = []\n",
    "        for st, amp in self.state:\n",
    "            for i in range(2**(b-a)):\n",
    "                nst = st[:]\n",
    "                nst[a:b] = [int(x) for x in '{0:b}'.format(i).zfill(b-a)]\n",
    "                temp.append((nst, amp * 1 / math.sqrt(2**(b-a))))\n",
    "        self.state = temp\n",
    "        \n",
    "    def __normalize__(self):\n",
    "        renorm_factor = math.sqrt(sum([amp*amp for st, amp in self.state]))\n",
    "        self.state = [(st, amp/renorm_factor) for st, amp in self.state]\n",
    "\n",
    "    def __cleanup__(self):\n",
    "        self.state = sorted([(st, sum(j for i, j in amp_group)) for st, amp_group in itertools.groupby(sorted(self.state), key=lambda x: x[0])])\n",
    "        "
   ]
  },
  {
   "cell_type": "code",
   "execution_count": null,
   "metadata": {},
   "outputs": [],
   "source": [
    "st = State(4)\n",
    "st.hadamard(0, 4)\n",
    "st.set_value(2, 4, 3)\n",
    "\n",
    "print(a)\n",
    "print(st.state)\n",
    "print(st.get_mean(4))"
   ]
  },
  {
   "cell_type": "markdown",
   "metadata": {},
   "source": [
    "Structure of the ... (i.e. outline of the algorithm and how it will be used)"
   ]
  },
  {
   "cell_type": "code",
   "execution_count": null,
   "metadata": {},
   "outputs": [],
   "source": [
    "def comparator(state, bound_a, bound_b):\n",
    "    \"\"\"\n",
    "    bound is [start, end)\n",
    "    \"\"\"\n",
    "    n = len(state)\n",
    "    \n",
    "    if type(bound_a) is not tuple or type(bound_b) is not tuple:\n",
    "        raise ValueError('invalid input: not tuples')\n",
    "\n",
    "#     if type(state) is not State:\n",
    "#         raise ValueError('input is not a valid state')\n",
    "        \n",
    "    a, b = bound_a\n",
    "    c, d = bound_b\n",
    "    \n",
    "    if b - a != d - c:\n",
    "        raise ValueError(\"input qreg doesn't have the same size = {}, {}\".format(b-a, d-c))\n",
    "        \n",
    "    if a < 0 or b > n or c < 0 or d > n:\n",
    "        raise ValueError('index out of bound')\n",
    "\n",
    "    return state[a:b] > state[c:d]\n",
    "    \n",
    "    \n",
    "    \n",
    "def grover(states, Uf, input_bound, bounds):\n",
    "    \"\"\"\n",
    "    n: the number of qubit\n",
    "    states: [(state, amplitude)]\n",
    "    input_bound: (a, b) \n",
    "    bounds: [(start, end)] \n",
    "    Uf: function that output 0, 1\n",
    "    \"\"\"\n",
    "    n = states.len\n",
    "    bds = [input_bound] + bounds\n",
    "    # flip state that has Uf(x) = 1\n",
    "    # Todo: make it more general\n",
    "    states.state = [(st, -amp) if Uf(st, bds[0], bds[1]) else (st, amp) for (st, amp) in states.state]\n",
    "    print(states.state)\n",
    "    # inverse around the mean\n",
    "    mean = states.get_mean(input_bound[1] - input_bound[0])\n",
    "    print('mean = {}'.format(mean))\n",
    "    states.state = [(st, 2*mean-amp) for (st, amp) in states.state]"
   ]
  },
  {
   "cell_type": "code",
   "execution_count": null,
   "metadata": {},
   "outputs": [],
   "source": [
    "st = State(4)\n",
    "st.hadamard(0, 4)\n",
    "print(st.state)\n",
    "st.set_value(2, 4, 2)\n",
    "grover(st, comparator, (0,2), [(2, 4)])\n",
    "\n",
    "print(st.state)"
   ]
  },
  {
   "cell_type": "code",
   "execution_count": null,
   "metadata": {},
   "outputs": [],
   "source": []
  },
  {
   "cell_type": "code",
   "execution_count": null,
   "metadata": {},
   "outputs": [],
   "source": []
  }
 ],
 "metadata": {
  "kernelspec": {
   "display_name": "Python 3",
   "language": "python",
   "name": "python3"
  },
  "language_info": {
   "codemirror_mode": {
    "name": "ipython",
    "version": 3
   },
   "file_extension": ".py",
   "mimetype": "text/x-python",
   "name": "python",
   "nbconvert_exporter": "python",
   "pygments_lexer": "ipython3",
   "version": "3.7.0"
  }
 },
 "nbformat": 4,
 "nbformat_minor": 2
}
