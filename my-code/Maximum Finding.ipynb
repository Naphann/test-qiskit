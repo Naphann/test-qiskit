{
 "cells": [
  {
   "cell_type": "markdown",
   "metadata": {},
   "source": [
    "# Maximum Finding\n",
    "\n",
    "Maximum finding algorithm using qiskit library using n-bit comparator with minimum anciallary register used. 4-bit version will be experimented using the real device from IBM.\n",
    "\n",
    "## The outline of algorithm\n",
    "\n",
    "We will use n-qbit register to store our current maximum value called `qc`. In order to find the maximum value we need to repeatedly find one larger value (index) than `qc` and stop when we can't find any. For each iteration we will use `qs` to store our larger than `qc` value. \n",
    "\n",
    "0. randomly initialize `qc` and measure its value\n",
    "1. initialize `qs` into super position of all states \n",
    "2. apply Grover's algorithm using 3-bit comparator as the black-box function comparing `qs` and `qc` and set the input search space on `qs`\n",
    "3. if `qs` is larger than `qc` replace `qc` with `qs` value and repeat step (2)\n",
    "4. if `qs` is not larger than `qc` then we conclude that `qs` is the maximum value"
   ]
  },
  {
   "cell_type": "markdown",
   "metadata": {},
   "source": [
    "To start we need to import all the packages we need."
   ]
  },
  {
   "cell_type": "code",
   "execution_count": null,
   "metadata": {},
   "outputs": [],
   "source": [
    "# importing QISKit\n",
    "from qiskit import QuantumCircuit, ClassicalRegister, QuantumRegister, QISKitError\n",
    "from qiskit import available_backends, execute, register, get_backend, compile\n",
    "\n",
    "from qiskit.tools import visualization\n",
    "from qiskit.tools.visualization import circuit_drawer\n",
    "\n",
    "# import other necessary stuff\n",
    "import random\n",
    "import math\n",
    "import warnings\n",
    "\n",
    "import sys, time, getpass\n",
    "try:\n",
    "    sys.path.append(\"../\")\n",
    "    import Qconfig\n",
    "    qx_config = {\n",
    "        \"APItoken\": Qconfig.APItoken,\n",
    "        \"url\": Qconfig.config['url']}\n",
    "    print('Qconfig loaded from %s.' % Qconfig.__file__)\n",
    "except:\n",
    "    print('Qconfig.py not found in parent directory')"
   ]
  },
  {
   "cell_type": "markdown",
   "metadata": {},
   "source": [
    "To find the maximum value we need comparator first. Since we will be using multiple qubit control-cot gate, we will make a function `n_control_not()` which we will use a lot later on."
   ]
  },
  {
   "cell_type": "code",
   "execution_count": null,
   "metadata": {},
   "outputs": [],
   "source": [
    "def n_control_not(circuit, q_array, target, ancillary_array, flip_array=None):\n",
    "    # error checking\n",
    "    if flip_array is not None and len(q_array) != len(flip_array):\n",
    "        raise ValueError(\"q_array(len:{}) and flip_array(len:{}) must have the same length\".format(len(q_array), len(flip_array)))\n",
    "    if len(ancillary_array) < len(q_array) - 2:\n",
    "        raise ValueError(\"ancillary array length is not enough ({}) for q_array ({})\".format(len(ancillary_array), len(q_array)))\n",
    "    if flip_array is None:\n",
    "        flip_array = [1 for _ in range(len(q_array))]\n",
    "    # todo handle wrong flip_array\n",
    "    \n",
    "    n = len(q_array)\n",
    "    \n",
    "    # put X-gate if flip\n",
    "    for i in range(n):\n",
    "        if flip_array[i] == -1:\n",
    "            circuit.x(q_array[i])\n",
    "        \n",
    "    # special case for only 2 bits\n",
    "    if n == 2:\n",
    "        circuit.ccx(q_array[0], q_array[1], target)\n",
    "    else:\n",
    "        circuit.ccx(q_array[0], q_array[1], ancillary_array[0])\n",
    "        for i in range(2, n-1):\n",
    "            circuit.ccx(q_array[i], ancillary_array[i-2], ancillary_array[i-1])\n",
    "        circuit.ccx(q_array[n-1], ancillary_array[n-3], target)\n",
    "        for i in reversed(range(2, n-1)):\n",
    "            circuit.ccx(q_array[i], ancillary_array[i-2], ancillary_array[i-1])\n",
    "        circuit.ccx(q_array[0], q_array[1], ancillary_array[0])\n",
    "    \n",
    "    # clean up X-gate\n",
    "    for i in range(n):\n",
    "        if flip_array[i] == -1:\n",
    "            circuit.x(q_array[i])"
   ]
  },
  {
   "cell_type": "markdown",
   "metadata": {},
   "source": [
    "We already have the n_control_not gate so now, onto the comparator."
   ]
  },
  {
   "cell_type": "markdown",
   "metadata": {},
   "source": [
    "Let's test out n_control_not function we just implemented\n",
    "with 2 qubits (the special case)."
   ]
  },
  {
   "cell_type": "code",
   "execution_count": null,
   "metadata": {},
   "outputs": [],
   "source": [
    "qc = QuantumCircuit()\n",
    "qs = QuantumRegister(2, 'qs')\n",
    "anc = QuantumRegister(1, 'anc')\n",
    "target = QuantumRegister(1, 'target')\n",
    "qc.add(qs)\n",
    "qc.add(anc)\n",
    "qc.add(target)\n",
    "\n",
    "\n",
    "n_control_not(qc, qs, target[0], anc)\n",
    "\n",
    "circuit_drawer(qc)"
   ]
  },
  {
   "cell_type": "markdown",
   "metadata": {},
   "source": [
    " We will see that the ancillary register shouldn't be used as intended.\n",
    " \n",
    " And here's the 4 qubits version"
   ]
  },
  {
   "cell_type": "code",
   "execution_count": null,
   "metadata": {},
   "outputs": [],
   "source": [
    "qc = QuantumCircuit()\n",
    "qs = QuantumRegister(4, 'qs')\n",
    "anc = QuantumRegister(2, 'anc')\n",
    "target = QuantumRegister(1, 'target')\n",
    "qc.add(qs)\n",
    "qc.add(anc)\n",
    "qc.add(target)\n",
    "\n",
    "\n",
    "n_control_not(qc, qs, target[0], anc)\n",
    "\n",
    "circuit_drawer(qc)"
   ]
  },
  {
   "cell_type": "code",
   "execution_count": null,
   "metadata": {},
   "outputs": [],
   "source": [
    "def n_bit_comparator(qc, a, b, anc, target):\n",
    "    \n",
    "    # check whether two register is the same length\n",
    "    if len(a) != len(b):\n",
    "        raise ValueError('two register to compare must have the same length: a is {}, b is {}'.format(len(a), len(b)))\n",
    "    \n",
    "    anc_len = len(anc)\n",
    "    n = len(a)\n",
    "    if anc_len < 2 * n - 2:\n",
    "        raise ValueError('ancillary bit is not enough: anc_len is {}, need at least {} qbit'.format(anc_len, len(a) - 1))\n",
    "    \n",
    "    # compare the MSB\n",
    "    n_control_not(qc, [a[0], b[0]], target, anc, [1, -1])\n",
    "    \n",
    "    for i in range(1, n):\n",
    "        # all more significant bits must be equal\n",
    "        j = i-1\n",
    "        qc.ccx(a[j], b[j], anc[j])\n",
    "        qc.x(a[j])\n",
    "        qc.x(b[j])\n",
    "        qc.ccx(a[j], b[j], anc[j])\n",
    "        \n",
    "        n_control_not(qc, [anc[j] for j in range(i)] + [a[i], b[i]], target, [anc[k] for k in range(i, anc_len)],\n",
    "                     [1] * (i+1) + [-1])\n",
    "        \n",
    "    for j in reversed(range(i)):\n",
    "        qc.ccx(a[j], b[j], anc[j])\n",
    "        qc.x(a[j])\n",
    "        qc.x(b[j])\n",
    "        qc.ccx(a[j], b[j], anc[j])"
   ]
  },
  {
   "cell_type": "markdown",
   "metadata": {},
   "source": [
    "Let's see how the 4-qubit comparator looks like."
   ]
  },
  {
   "cell_type": "code",
   "execution_count": null,
   "metadata": {},
   "outputs": [],
   "source": [
    "n = 4\n",
    "\n",
    "qc = QuantumCircuit()\n",
    "a = QuantumRegister(n, 'a')\n",
    "b = QuantumRegister(n, 'b')\n",
    "anc = QuantumRegister(2 * n - 2, 'anc')\n",
    "target = QuantumRegister(1, 'target')\n",
    "qc.add(a)\n",
    "qc.add(b)\n",
    "qc.add(anc)\n",
    "qc.add(target)\n",
    "\n",
    "n_bit_comparator(qc, a, b, anc, target[0])\n",
    "\n",
    "circuit_drawer(qc)"
   ]
  },
  {
   "cell_type": "markdown",
   "metadata": {},
   "source": [
    "Before we can do some comparison testing, we implement some helper functions to help us out.\n",
    "\n",
    "The `int_to_qubit` function will help us initializing qregs via binary string."
   ]
  },
  {
   "cell_type": "code",
   "execution_count": null,
   "metadata": {},
   "outputs": [],
   "source": [
    "def int_to_qubit(n, circuit, qs):\n",
    "    bits_required = int(math.log(max(n,1), 2) + 1)\n",
    "    qs_len = len(qs)\n",
    "    if qs_len < bits_required:\n",
    "        raise ValueError('input n = {} requires {} bits but qs is only {} bits'.format(n, bits_required, qs_len))\n",
    "\n",
    "    bstr = '{0:b}'.format(n)\n",
    "    bstr = bstr.zfill(qs_len)\n",
    "    for i in range(qs_len):\n",
    "        if bstr[i] == '1':\n",
    "#             print('bit {} of {} is 1'.format(i, bstr))\n",
    "            circuit.x(qs[i])"
   ]
  },
  {
   "cell_type": "markdown",
   "metadata": {},
   "source": [
    "Let's test out this comparator a bit. By comparing 11 and 0 to 15."
   ]
  },
  {
   "cell_type": "code",
   "execution_count": null,
   "metadata": {},
   "outputs": [],
   "source": [
    "n = 4\n",
    "\n",
    "for i in range(16):\n",
    "    qc = QuantumCircuit()\n",
    "    a = QuantumRegister(n, 'a')\n",
    "    b = QuantumRegister(n, 'b')\n",
    "    anc = QuantumRegister(2 * n - 2, 'anc')\n",
    "    target = QuantumRegister(1, 'target')\n",
    "    cs = ClassicalRegister(1, 'result')\n",
    "    \n",
    "    qc.add(a)\n",
    "    qc.add(b)\n",
    "    qc.add(anc)\n",
    "    qc.add(target)\n",
    "    qc.add(cs)\n",
    "    \n",
    "    int_to_qubit(11, qc, a)\n",
    "    int_to_qubit(i, qc, b)\n",
    "    \n",
    "    n_bit_comparator(qc, a, b, anc, target[0])\n",
    "    qc.measure(target, cs)\n",
    "  \n",
    "    circuit_drawer(qc)\n",
    "\n",
    "    # Execute circuit\n",
    "    job = execute([qc], backend='local_qasm_simulator', shots=10)\n",
    "    result = job.result()\n",
    "\n",
    "    counts = result.get_counts(qc)\n",
    "    if i < 11 and counts['1'] == 10:\n",
    "        print('correct: 11 > {}'.format(i))\n",
    "    elif i >= 11 and counts['0'] == 10:\n",
    "        print('correct: 11 <= {}'.format(i))\n",
    "    else:\n",
    "        print('error: 11 is neither larger nor less than {}'.format(i))\n",
    "    \n",
    "print('.....finished.....')"
   ]
  },
  {
   "cell_type": "markdown",
   "metadata": {},
   "source": [
    "The next step is use the comparator and do Grover's search to find a larger value. We'll be using Boyer et al version of Grover's algorithm which goes as follow.\n",
    "\n",
    "1. initialize $m = 1$ and set $\\lambda = 6/5$\n",
    "2. choose `j` uniformly at random among the nonnegative integers smaller than `m`\n",
    "3. apply j iterations of Grover's algorithm starting from initial state $\\left|\\Psi_0\\right\\rangle = \\sum_i \\frac{1}{\\sqrt{N}}\\left|i\\right\\rangle$\n",
    "4. observe the register: let $i$ be the outcome\n",
    "5. if `T[i] = x`, the problem is solved: **exit**\n",
    "6. otherwise, set `m` to min($\\lambda m$, $\\sqrt{N}$)    \n",
    "and go back to step 2."
   ]
  },
  {
   "cell_type": "markdown",
   "metadata": {},
   "source": [
    "We will need inverse around the mean function"
   ]
  },
  {
   "cell_type": "code",
   "execution_count": null,
   "metadata": {},
   "outputs": [],
   "source": [
    "def inv_around_mean(circuit, qs, anc):\n",
    "    n = len(qs)\n",
    "    for i in range(n):\n",
    "        circuit.h(qs[i])\n",
    "    for i in range(n):\n",
    "        circuit.x(qs[i])\n",
    "    circuit.h(qs[0])\n",
    "    n_control_not(circuit, [qs[i] for i in range(1, n)], qs[0], anc)\n",
    "    circuit.h(qs[0])\n",
    "    for i in range(n):\n",
    "        circuit.x(qs[i])\n",
    "    for i in range(n):\n",
    "        circuit.h(qs[i])"
   ]
  },
  {
   "cell_type": "markdown",
   "metadata": {},
   "source": [
    "And now for the main part, finding a larger value using Grover's algorithm."
   ]
  },
  {
   "cell_type": "code",
   "execution_count": null,
   "metadata": {},
   "outputs": [],
   "source": [
    "def init_grover(circuit, f_input, f_output):\n",
    "    for j in range(len(f_input)):\n",
    "        circuit.h(f_input[j])\n",
    "    circuit.x(f_output)\n",
    "    circuit.h(f_output)\n",
    "\n",
    "def grover_find_larger(n, start_value, iterations, device='local_qasm_simulator', shots=2):\n",
    "    \"\"\"\n",
    "    return value: counts (results from running grover using 'iteration' iterations)\n",
    "    \"\"\"\n",
    "    qc = QuantumCircuit()\n",
    "    a = QuantumRegister(n, 'a')\n",
    "    b = QuantumRegister(n, 'b')\n",
    "    anc = QuantumRegister(2*n - 2, 'anc')\n",
    "    target = QuantumRegister(1)\n",
    "    cs = ClassicalRegister(n, 'result')\n",
    "    \n",
    "    qc.add(a)\n",
    "    qc.add(b)\n",
    "    qc.add(anc)\n",
    "    qc.add(target)\n",
    "    qc.add(cs)\n",
    "    \n",
    "    # init\n",
    "    init_grover(qc, a, target)\n",
    "    qc.barrier()\n",
    "    int_to_qubit(start_value, qc, b)\n",
    "    \n",
    "    for t in range(iterations):\n",
    "        n_bit_comparator(qc, a, b, anc, target[0])\n",
    "        inv_around_mean(qc, a, anc)\n",
    "    \n",
    "    qc.barrier()\n",
    "    qc.measure(a, cs)\n",
    "    # Execute circuit\n",
    "    job = execute([qc], backend=device, shots=shots)\n",
    "    result = job.result()\n",
    "    print(result.get_data())\n",
    "\n",
    "    counts = result.get_counts(qc)\n",
    "    counts = {int(k[::-1],2) : v for k,v in counts.items()}\n",
    "    return counts"
   ]
  },
  {
   "cell_type": "markdown",
   "metadata": {},
   "source": [
    "We already implemented all the components we need in order to run maximum finding algorithm.\n",
    "\n",
    "Let's start with the simplest case, the case where every index of search space corresponds to the index value itself and we can check whether our implemenation of Grover's algorithm is correct by finding value larger than 11 (4-bit) using **one Grover's iteration**."
   ]
  },
  {
   "cell_type": "code",
   "execution_count": null,
   "metadata": {},
   "outputs": [],
   "source": [
    "def fxn():\n",
    "    warnings.warn(\"deprecated\", DeprecationWarning)\n",
    "\n",
    "with warnings.catch_warnings():\n",
    "    warnings.simplefilter(\"ignore\")\n",
    "    fxn()\n",
    "\n",
    "    # maximum finding scenario 1: f[x] = x\n",
    "    n = 11\n",
    "    iterations = 0\n",
    "    f_count = 0\n",
    "    loop = 0\n",
    "    \n",
    "    counts = grover_find_larger(4, n, 1, shots=1000)\n",
    "    visualization.plot_histogram(counts)"
   ]
  },
  {
   "cell_type": "markdown",
   "metadata": {},
   "source": [
    "As we can see from the plots above, it seems that our individual parts are working as intended and we're ready to test running maximum finding algorithm on local simulator.\n",
    "\n",
    "### Maximum finding algorithm on local simulator\n",
    "\n",
    "1. initialize $m = 1$ and set $\\lambda = 6/5$\n",
    "2. choose `j` uniformly at random among the nonnegative integers smaller than `m`\n",
    "3. apply j iterations of Grover's algorithm starting from initial state $\\left|\\Psi_0\\right\\rangle = \\sum_i \\frac{1}{\\sqrt{N}}\\left|i\\right\\rangle$\n",
    "4. observe the register: let $i$ be the outcome\n",
    "5. if `T[i] = x`, the problem is solved: **exit**\n",
    "6. otherwise, set `m` to min($\\lambda m$, $\\sqrt{N}$)    \n",
    "and go back to step 2."
   ]
  },
  {
   "cell_type": "code",
   "execution_count": null,
   "metadata": {},
   "outputs": [],
   "source": [
    "n = 4\n",
    "total_itr = 0\n",
    "f_eval = 0\n",
    "cur_max_idx = 3\n",
    "found = True\n",
    "\n",
    "# loop to find larger number\n",
    "while found:\n",
    "    m = 1\n",
    "    phi = 6/5\n",
    "    itr = 0\n",
    "#     print('start searching: current = {}, with j = {}, iteration count = {}'.format(cur_max_idx, j, total_itr))\n",
    "    while itr <= (int(math.sqrt(2**n) / phi + 0.5) + 5):\n",
    "        j = random.randrange(int(math.ceil(m)))\n",
    "#         print()\n",
    "        print('j = {}, m = {}'.format(j, m))\n",
    "        cnts = grover_find_larger(n, cur_max_idx, j, shots=2)\n",
    "        print(cnts)\n",
    "        f_eval += j * 3\n",
    "        itr += 1\n",
    "        n_idx = max(cnts)\n",
    "        m *= phi\n",
    "        if n_idx > cur_max_idx:\n",
    "            cur_max_idx = n_idx\n",
    "            found = True\n",
    "            break\n",
    "    else:\n",
    "        found = False\n",
    "\n",
    "    total_itr += 3*itr\n",
    "\n",
    "print('........')\n",
    "print('search finish: max found = {}, total function evaluations = {}, total iteration count = {}'.format(cur_max_idx, f_eval, total_itr))"
   ]
  },
  {
   "cell_type": "markdown",
   "metadata": {},
   "source": [
    "### Now let's test the same one with real devices.\n",
    "\n",
    "To use the real devices, we need to register our API token to the server first."
   ]
  },
  {
   "cell_type": "code",
   "execution_count": null,
   "metadata": {},
   "outputs": [],
   "source": [
    "register(qx_config['APItoken'], qx_config['url'])\n",
    "# available_backends({'simulator': False})"
   ]
  },
  {
   "cell_type": "code",
   "execution_count": null,
   "metadata": {},
   "outputs": [],
   "source": [
    "import datetime\n",
    "\n",
    "n = 4\n",
    "total_itr = 0\n",
    "f_eval = 0\n",
    "cur_max_idx = 3\n",
    "found = True\n",
    "\n",
    "# loop to find larger number\n",
    "while found:\n",
    "    m = 1\n",
    "    phi = 6/5\n",
    "    itr = 0\n",
    "    print('start searching: current = {}, iteration count = {}'.format(cur_max_idx, total_itr))\n",
    "    while itr <= (int(math.sqrt(2**n) / phi + 0.5) + 5):\n",
    "        j = random.randrange(int(math.ceil(m)))\n",
    "        print(datetime.datetime.now())\n",
    "        print('j = {}, m = {}'.format(j, m))\n",
    "        cnts = grover_find_larger(n, cur_max_idx, j, shots=2, device='ibmqx5')\n",
    "        print(cnts)\n",
    "        f_eval += j * 3\n",
    "        itr += 1\n",
    "        n_idx = max(cnts)\n",
    "        m *= phi\n",
    "        if n_idx > cur_max_idx:\n",
    "            cur_max_idx = n_idx\n",
    "            found = True\n",
    "            break\n",
    "    else:\n",
    "        found = False\n",
    "\n",
    "    total_itr += 3*itr\n",
    "\n",
    "print('........')\n",
    "print('search finish: max found = {}, total function evaluations = {}, total iteration count = {}'.format(cur_max_idx, f_eval, total_itr))"
   ]
  },
  {
   "cell_type": "markdown",
   "metadata": {},
   "source": []
  },
  {
   "cell_type": "code",
   "execution_count": null,
   "metadata": {},
   "outputs": [],
   "source": []
  }
 ],
 "metadata": {
  "kernelspec": {
   "display_name": "Python 3",
   "language": "python",
   "name": "python3"
  },
  "language_info": {
   "codemirror_mode": {
    "name": "ipython",
    "version": 3
   },
   "file_extension": ".py",
   "mimetype": "text/x-python",
   "name": "python",
   "nbconvert_exporter": "python",
   "pygments_lexer": "ipython3",
   "version": "3.6.5"
  }
 },
 "nbformat": 4,
 "nbformat_minor": 2
}
